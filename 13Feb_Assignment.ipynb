{
 "cells": [
  {
   "cell_type": "markdown",
   "id": "d8c54dc3-8f41-43c1-8678-aadf4f9d0ce0",
   "metadata": {},
   "source": [
    "In Python, all built-in exceptions are classes that inherit from the BaseException class, which in turn inherits from the object class. This means that exceptions are objects, and they can have attributes and methods just like any other Python object.\n",
    "\n",
    "When we create a custom exception in Python, we usually define a new class that inherits from one of the built-in exception classes or from the Exception class, which is a base class for most user-defined exceptions.\n",
    "\n",
    "By inheriting from the Exception class, we can create a custom exception that has all the features and behaviors of a standard Python exception, such as the ability to be raised, caught, and handled using the try-except statement, and the ability to provide custom error messages and additional information about the error.\n",
    "\n",
    "In addition, by using the Exception class as the base class for our custom exception, we ensure that our exception is a well-formed and well-behaved Python object, which can be used in a consistent and predictable way throughout our code.\n",
    "\n",
    "\n",
    "\n"
   ]
  },
  {
   "cell_type": "markdown",
   "id": "26ba2401-72b4-42d2-83d9-df0185c3006c",
   "metadata": {},
   "source": [
    "Que 2)Ans =>"
   ]
  },
  {
   "cell_type": "markdown",
   "id": "365e32ac-f606-4bcf-b3d3-3005d9456ac1",
   "metadata": {},
   "source": [
    "We can print the Python Exception Hierarchy by using the built-in help() function in Python, which provides documentation on a specific object or module. We can pass the name of the Exception class to help() to see the entire hierarchy of the exceptions in Python.\n",
    "\n",
    "Here's the Python program to print the Exception Hierarchy:"
   ]
  },
  {
   "cell_type": "code",
   "execution_count": 10,
   "id": "eff0ae84-3c3e-46d4-a50b-3ecba5e2f9b5",
   "metadata": {},
   "outputs": [
    {
     "name": "stdout",
     "output_type": "stream",
     "text": [
      "Help on class Exception in module builtins:\n",
      "\n",
      "class Exception(BaseException)\n",
      " |  Common base class for all non-exit exceptions.\n",
      " |  \n",
      " |  Method resolution order:\n",
      " |      Exception\n",
      " |      BaseException\n",
      " |      object\n",
      " |  \n",
      " |  Built-in subclasses:\n",
      " |      ArithmeticError\n",
      " |      AssertionError\n",
      " |      AttributeError\n",
      " |      BufferError\n",
      " |      ... and 15 other subclasses\n",
      " |  \n",
      " |  Methods defined here:\n",
      " |  \n",
      " |  __init__(self, /, *args, **kwargs)\n",
      " |      Initialize self.  See help(type(self)) for accurate signature.\n",
      " |  \n",
      " |  ----------------------------------------------------------------------\n",
      " |  Static methods defined here:\n",
      " |  \n",
      " |  __new__(*args, **kwargs) from builtins.type\n",
      " |      Create and return a new object.  See help(type) for accurate signature.\n",
      " |  \n",
      " |  ----------------------------------------------------------------------\n",
      " |  Methods inherited from BaseException:\n",
      " |  \n",
      " |  __delattr__(self, name, /)\n",
      " |      Implement delattr(self, name).\n",
      " |  \n",
      " |  __getattribute__(self, name, /)\n",
      " |      Return getattr(self, name).\n",
      " |  \n",
      " |  __reduce__(...)\n",
      " |      Helper for pickle.\n",
      " |  \n",
      " |  __repr__(self, /)\n",
      " |      Return repr(self).\n",
      " |  \n",
      " |  __setattr__(self, name, value, /)\n",
      " |      Implement setattr(self, name, value).\n",
      " |  \n",
      " |  __setstate__(...)\n",
      " |  \n",
      " |  __str__(self, /)\n",
      " |      Return str(self).\n",
      " |  \n",
      " |  with_traceback(...)\n",
      " |      Exception.with_traceback(tb) --\n",
      " |      set self.__traceback__ to tb and return self.\n",
      " |  \n",
      " |  ----------------------------------------------------------------------\n",
      " |  Data descriptors inherited from BaseException:\n",
      " |  \n",
      " |  __cause__\n",
      " |      exception cause\n",
      " |  \n",
      " |  __context__\n",
      " |      exception context\n",
      " |  \n",
      " |  __dict__\n",
      " |  \n",
      " |  __suppress_context__\n",
      " |  \n",
      " |  __traceback__\n",
      " |  \n",
      " |  args\n",
      "\n"
     ]
    }
   ],
   "source": [
    "# use help function to print the Python Exception Hierarchy\n",
    "help(Exception)\n"
   ]
  },
  {
   "cell_type": "markdown",
   "id": "69e3ee7a-870d-4d27-a360-14705bbe6c3c",
   "metadata": {},
   "source": [
    "Que 3)Ans =>"
   ]
  },
  {
   "cell_type": "markdown",
   "id": "f3dd2288-1711-409f-bdbd-83f359318db6",
   "metadata": {},
   "source": [
    "The ArithmeticError class is a built-in Python exception class that is raised when an arithmetic operation fails, such as dividing by zero or performing an illegal operation on a numeric value. The ArithmeticError class is the base class for all exceptions that occur during arithmetic operations.\n",
    "\n",
    "The following are some of the exceptions that are defined in the ArithmeticError class:\n",
    "\n",
    "1.ZeroDivisionError: This exception is raised when we try to divide a number by zero.\n"
   ]
  },
  {
   "cell_type": "code",
   "execution_count": 2,
   "id": "e9b531ec-1154-476a-9867-930d27b35e1b",
   "metadata": {},
   "outputs": [
    {
     "name": "stdout",
     "output_type": "stream",
     "text": [
      "Error: Division by zero\n"
     ]
    }
   ],
   "source": [
    "a = 10\n",
    "b = 0\n",
    "try:\n",
    "    c = a / b\n",
    "except ZeroDivisionError:\n",
    "    print(\"Error: Division by zero\")\n"
   ]
  },
  {
   "cell_type": "markdown",
   "id": "c3d339be-5c36-42e4-ae86-82088f3d1a92",
   "metadata": {},
   "source": [
    "2.OverflowError: This exception is raised when the result of an arithmetic operation is too large to be represented by the numeric type being used.\n",
    "\n"
   ]
  },
  {
   "cell_type": "code",
   "execution_count": 5,
   "id": "141faaf6-cea2-4527-8b33-dd481be40d01",
   "metadata": {},
   "outputs": [],
   "source": [
    "a = 1e1000\n",
    "try:\n",
    "    b = a * a\n",
    "except OverflowError:\n",
    "    print(\"Error: Arithmetic overflow\")\n"
   ]
  },
  {
   "cell_type": "markdown",
   "id": "89336637-a0be-4992-8281-a66a19594a6e",
   "metadata": {},
   "source": [
    "Que 4)Ans =>"
   ]
  },
  {
   "cell_type": "markdown",
   "id": "963582a3-d84c-4c71-a304-eb51cc7e57ec",
   "metadata": {},
   "source": [
    "The LookupError is a built-in Python exception class that serves as the base class for all exceptions that indicate a lookup or indexing operation has failed. This includes the KeyError and IndexError exceptions.\n",
    "\n",
    "The KeyError exception is raised when a dictionary key is not found. For example:"
   ]
  },
  {
   "cell_type": "code",
   "execution_count": 6,
   "id": "e8643c65-0d9a-48de-8587-1c5820c91ef4",
   "metadata": {},
   "outputs": [
    {
     "name": "stdout",
     "output_type": "stream",
     "text": [
      "Error: key not found\n"
     ]
    }
   ],
   "source": [
    "my_dict = {\"a\": 1, \"b\": 2, \"c\": 3}\n",
    "try:\n",
    "    value = my_dict[\"d\"]\n",
    "except KeyError:\n",
    "    print(\"Error: key not found\")\n"
   ]
  },
  {
   "cell_type": "markdown",
   "id": "2e00ec3f-451f-45f4-ac02-e1496cdbcc4c",
   "metadata": {},
   "source": [
    "In the above example, we attempt to access a key in a dictionary that does not exist, resulting in a KeyError exception.\n",
    "\n",
    "The IndexError exception is raised when an attempt is made to access an index that is out of range. For example:"
   ]
  },
  {
   "cell_type": "code",
   "execution_count": 7,
   "id": "fa4fd17c-f426-4b37-afb1-d991dd42faf7",
   "metadata": {},
   "outputs": [
    {
     "name": "stdout",
     "output_type": "stream",
     "text": [
      "Error: index out of range\n"
     ]
    }
   ],
   "source": [
    "my_list = [1, 2, 3]\n",
    "try:\n",
    "    value = my_list[3]\n",
    "except IndexError:\n",
    "    print(\"Error: index out of range\")\n"
   ]
  },
  {
   "cell_type": "markdown",
   "id": "a2012f86-cc8d-4bf0-b5be-db09be67d281",
   "metadata": {},
   "source": [
    "Que 5)Ans =>"
   ]
  },
  {
   "cell_type": "markdown",
   "id": "5f22571b-a526-4843-96f7-52da67a40367",
   "metadata": {},
   "source": [
    "ImportError is a built-in Python exception that is raised when an imported module or package cannot be found or imported correctly. This can occur due to a variety of reasons, such as a missing or incorrect file path, an incorrect module name, or a module that is not installed on the system.\n",
    "\n",
    "In Python 3.6 and later versions, ImportError has been renamed to ModuleNotFoundError for better clarity and specificity. ModuleNotFoundError is a subclass of ImportError and is raised when a module is not found, whereas ImportError can be raised for other reasons, such as when there is an error in the imported module.\n",
    "\n",
    "Here is an example of an ImportError that occurs when a module is not found:"
   ]
  },
  {
   "cell_type": "code",
   "execution_count": 8,
   "id": "b241eeca-0b89-4b1f-9736-3c78d0fe827a",
   "metadata": {},
   "outputs": [
    {
     "name": "stdout",
     "output_type": "stream",
     "text": [
      "Error: module not found\n"
     ]
    }
   ],
   "source": [
    "try:\n",
    "    import non_existent_module\n",
    "except ImportError:\n",
    "    print(\"Error: module not found\")\n"
   ]
  },
  {
   "cell_type": "markdown",
   "id": "014ddde2-c97e-4d88-8821-fb60d90d4102",
   "metadata": {},
   "source": [
    "Here is an example of a ModuleNotFoundError that occurs when a module is not found:"
   ]
  },
  {
   "cell_type": "code",
   "execution_count": 9,
   "id": "01b0c2f2-13ef-4480-a4f9-c0fe29cb27b7",
   "metadata": {},
   "outputs": [
    {
     "name": "stdout",
     "output_type": "stream",
     "text": [
      "Error: module not found\n"
     ]
    }
   ],
   "source": [
    "try:\n",
    "    import non_existent_module\n",
    "except ModuleNotFoundError:\n",
    "    print(\"Error: module not found\")\n"
   ]
  },
  {
   "cell_type": "markdown",
   "id": "7d023821-7452-4da6-9d8d-b87c58ec603c",
   "metadata": {},
   "source": [
    "Que 6)Ans =>"
   ]
  },
  {
   "cell_type": "markdown",
   "id": "5e6b867a-0535-423e-83cd-e3cdfa771193",
   "metadata": {},
   "source": [
    "Here are some best practices for exception handling in Python:\n",
    "\n",
    "1.Only catch exceptions you can handle: It's generally not a good idea to catch all exceptions or to catch exceptions you cannot handle. Instead, catch only the specific exceptions that you anticipate and can handle, and let any unexpected exceptions propagate up the call stack.\n",
    "\n",
    "2.Use specific exception classes: Use specific exception classes to provide clear and meaningful error messages, and avoid catching the base Exception class unless necessary.\n",
    "\n",
    "3.Keep exception handling code separate from normal code: Exception handling code should be separate from the normal code to make it more readable and maintainable.\n",
    "\n",
    "4.Use the finally block to release resources: If you have acquired any resources like file handles or network connections, make sure to release them in the finally block to prevent resource leaks.\n",
    "\n",
    "5.Log exceptions: Logging exceptions is a good practice, as it can help you identify and fix errors in your code.\n",
    "\n",
    "6.Don't use exception handling for control flow: Exceptions should be used for handling errors, not for controlling the flow of your program.\n",
    "\n",
    "7.Use multiple except blocks for different exceptions: If you need to handle multiple exceptions, use separate except blocks for each one.\n",
    "\n",
    "8.Raise exceptions with clear messages: When you raise an exception, make sure to provide a clear and meaningful error message that describes the cause of the exception.\n",
    "\n",
    "9.Keep exception handling simple: Exception handling code should be simple and straightforward. Complex exception handling can be difficult to understand and maintain.\n",
    "\n",
    "10.Test exception handling: Make sure to test your exception handling code to ensure that it works as expected and handles all possible error conditions."
   ]
  },
  {
   "cell_type": "code",
   "execution_count": null,
   "id": "f23961b1-bea7-4544-be60-e846c06f3869",
   "metadata": {},
   "outputs": [],
   "source": []
  }
 ],
 "metadata": {
  "kernelspec": {
   "display_name": "Python 3 (ipykernel)",
   "language": "python",
   "name": "python3"
  },
  "language_info": {
   "codemirror_mode": {
    "name": "ipython",
    "version": 3
   },
   "file_extension": ".py",
   "mimetype": "text/x-python",
   "name": "python",
   "nbconvert_exporter": "python",
   "pygments_lexer": "ipython3",
   "version": "3.10.8"
  }
 },
 "nbformat": 4,
 "nbformat_minor": 5
}
